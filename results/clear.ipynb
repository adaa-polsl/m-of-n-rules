{
 "cells": [
  {
   "cell_type": "code",
   "execution_count": 4,
   "metadata": {},
   "outputs": [],
   "source": [
    "import shutil\n",
    "\n",
    "\n",
    "DATASETS = [\n",
    "    'hayes-roth',\n",
    "    'lymphography',\n",
    "    'glass',\n",
    "    'ecoli',\n",
    "    'titanic',\n",
    "    'anneal',\n",
    "    'autos',\n",
    "    'iris',\n",
    "    'hepatitis',\n",
    "    'heart-statlog',\n",
    "    'cylinder-bands',\n",
    "    'echocardiogram',\n",
    "    'monk-2',\n",
    "    'car',\n",
    "    'nursery',\n",
    "    'bupa-liver-disorders',\n",
    "    'mushroom',\n",
    "    'monk-1',\n",
    "    'zoo',\n",
    "    'auto-mpg',\n",
    "    'monk-3',\n",
    "    'balance-scale',\n",
    "    'wine',\n",
    "    'tic-tac-toe',\n",
    "    'sonar',\n",
    "    'flag',\n",
    "    'cleveland',\n",
    "    'heart-c',\n",
    "    'vote',\n",
    "    'soybean',\n",
    "]\n",
    "\n",
    "import os\n",
    "from glob import glob\n",
    "\n",
    "for path in glob('./classification/min_supp_20/*'):\n",
    "    dataset_name = os.path.basename(path)\n",
    "    if dataset_name != 'merged.csv' and dataset_name != 'metrics.csv':\n",
    "        if dataset_name.strip() not in DATASETS:\n",
    "            shutil.rmtree(path)\n",
    "    "
   ]
  },
  {
   "cell_type": "code",
   "execution_count": 8,
   "metadata": {},
   "outputs": [],
   "source": [
    "import pandas as pd\n",
    "\n",
    "train = pd.read_parquet('../datasets/classification/monk-3/train_test/train.parquet')\n",
    "test = pd.read_parquet('../datasets/classification/monk-3/train_test/test.parquet')"
   ]
  },
  {
   "cell_type": "code",
   "execution_count": 9,
   "metadata": {},
   "outputs": [
    {
     "name": "stdout",
     "output_type": "stream",
     "text": [
      "(122, 7)\n",
      "(432, 7)\n"
     ]
    }
   ],
   "source": [
    "print(train.shape)\n",
    "print(test.shape)"
   ]
  },
  {
   "cell_type": "code",
   "execution_count": 10,
   "metadata": {},
   "outputs": [
    {
     "data": {
      "text/plain": [
       "554"
      ]
     },
     "execution_count": 10,
     "metadata": {},
     "output_type": "execute_result"
    }
   ],
   "source": [
    "122 + 432"
   ]
  },
  {
   "cell_type": "code",
   "execution_count": 11,
   "metadata": {},
   "outputs": [
    {
     "data": {
      "text/plain": [
       "0    62\n",
       "1    60\n",
       "Name: class, dtype: int64"
      ]
     },
     "execution_count": 11,
     "metadata": {},
     "output_type": "execute_result"
    }
   ],
   "source": [
    "train['class'].value_counts()"
   ]
  },
  {
   "cell_type": "code",
   "execution_count": 3,
   "metadata": {},
   "outputs": [
    {
     "name": "stdout",
     "output_type": "stream",
     "text": [
      "r1: & IF a2 = 2 AND a5 = 1 THEN class = 1 (p=10, n=0)  \\\\\n",
      "\n",
      "r2: & IF a1 = 1 AND a2 = 2 AND a5 = 2 THEN class = 1 (p=8, n=0)  \\\\\n",
      "\n",
      "r3: & IF a2 = 2 AND a5 = 2 AND a6 = 2 THEN class = 1 (p=8, n=0)  \\\\\n",
      "\n",
      "r4: & IF a2 = 2 AND a3 = 2 AND a4 = 2 THEN class = 1 (p=7, n=0)  \\\\\n",
      "\n",
      "r5: & IF a2 = 2 AND a3 = 2 AND a5 = 3 THEN class = 1 (p=5, n=0)  \\\\\n",
      "\n",
      "r6: & IF a1 = 1 AND a2 = 2 THEN class = 1 (p=15, n=3)  \\\\\n",
      "\n",
      "r7: & IF a2 = 2 THEN class = 1 (p=31, n=11)  \\\\\n",
      "\n",
      "r8: & IF a2 = 1 AND a5 = 1 THEN class = 1 (p=12, n=0)  \\\\\n",
      "\n",
      "r9: & IF a2 = 1 AND a5 = 2 THEN class = 1 (p=9, n=0)  \\\\\n",
      "\n",
      "r10: & IF a2 = 1 AND a3 = 2 AND a4 = 3 THEN class = 1 (p=6, n=0)  \\\\\n",
      "\n",
      "r11: & IF a2 = 1 AND a5 = 3 AND a6 = 2 THEN class = 1 (p=3, n=0)  \\\\\n",
      "\n",
      "r12: & IF a1 = 3 AND a4 = 1 AND a5 = 3 THEN class = 1 (p=3, n=0)  \\\\\n",
      "\n",
      "r13: & IF a3 = 1 AND a4 = 1 THEN class = 1 (p=14, n=8)  \\\\\n",
      " \\\\\n"
     ]
    }
   ],
   "source": [
    "a = '''r1: & IF a2 = 2 AND a5 = {1} THEN class = {1} (p=10, n=0) \\\\\n",
    "r2: & IF a1 = 1 AND a2 = {2} AND a5 = {2} THEN class = {1} (p=8, n=0) \\\\\n",
    "r3: & IF a2 = 2 AND a5 = {2} AND a6 = {2} THEN class = {1} (p=8, n=0) \\\\\n",
    "r4: & IF a2 = 2 AND a3 = {2} AND a4 = {2} THEN class = {1} (p=7, n=0) \\\\\n",
    "r5: & IF a2 = 2 AND a3 = {2} AND a5 = {3} THEN class = {1} (p=5, n=0) \\\\\n",
    "r6: & IF a1 = 1 AND a2 = {2} THEN class = {1} (p=15, n=3) \\\\\n",
    "r7: & IF a2 = 2 THEN class = {1} (p=31, n=11) \\\\\n",
    "r8: & IF a2 = 1 AND a5 = {1} THEN class = {1} (p=12, n=0) \\\\\n",
    "r9: & IF a2 = 1 AND a5 = {2} THEN class = {1} (p=9, n=0) \\\\\n",
    "r10: & IF a2 = 1 AND a3 = {2} AND a4 = {3} THEN class = {1} (p=6, n=0) \\\\\n",
    "r11: & IF a2 = 1 AND a5 = {3} AND a6 = {2} THEN class = {1} (p=3, n=0) \\\\\n",
    "r12: & IF a1 = 3 AND a4 = {1} AND a5 = {3} THEN class = {1} (p=3, n=0) \\\\\n",
    "r13: & IF a3 = 1 AND a4 = {1} THEN class = {1} (p=14, n=8) \\\\'''\n",
    "\n",
    "for b in a.replace('{', '').replace('}', '').split('\\\\'):\n",
    "    print(f'{b} \\\\\\\\')"
   ]
  }
 ],
 "metadata": {
  "kernelspec": {
   "display_name": "env",
   "language": "python",
   "name": "python3"
  },
  "language_info": {
   "codemirror_mode": {
    "name": "ipython",
    "version": 3
   },
   "file_extension": ".py",
   "mimetype": "text/x-python",
   "name": "python",
   "nbconvert_exporter": "python",
   "pygments_lexer": "ipython3",
   "version": "3.9.10"
  }
 },
 "nbformat": 4,
 "nbformat_minor": 2
}
