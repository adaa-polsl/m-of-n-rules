{
 "cells": [
  {
   "cell_type": "code",
   "execution_count": 4,
   "metadata": {},
   "outputs": [],
   "source": [
    "import shutil\n",
    "\n",
    "\n",
    "DATASETS = [\n",
    "    'hayes-roth',\n",
    "    'lymphography',\n",
    "    'glass',\n",
    "    'ecoli',\n",
    "    'titanic',\n",
    "    'anneal',\n",
    "    'autos',\n",
    "    'iris',\n",
    "    'hepatitis',\n",
    "    'heart-statlog',\n",
    "    'cylinder-bands',\n",
    "    'echocardiogram',\n",
    "    'monk-2',\n",
    "    'car',\n",
    "    'nursery',\n",
    "    'bupa-liver-disorders',\n",
    "    'mushroom',\n",
    "    'monk-1',\n",
    "    'zoo',\n",
    "    'auto-mpg',\n",
    "    'monk-3',\n",
    "    'balance-scale',\n",
    "    'wine',\n",
    "    'tic-tac-toe',\n",
    "    'sonar',\n",
    "    'flag',\n",
    "    'cleveland',\n",
    "    'heart-c',\n",
    "    'vote',\n",
    "    'soybean',\n",
    "]\n",
    "\n",
    "import os\n",
    "from glob import glob\n",
    "\n",
    "for path in glob('./classification/min_supp_20/*'):\n",
    "    dataset_name = os.path.basename(path)\n",
    "    if dataset_name != 'merged.csv' and dataset_name != 'metrics.csv':\n",
    "        if dataset_name.strip() not in DATASETS:\n",
    "            shutil.rmtree(path)\n",
    "    "
   ]
  }
 ],
 "metadata": {
  "kernelspec": {
   "display_name": "env",
   "language": "python",
   "name": "python3"
  },
  "language_info": {
   "codemirror_mode": {
    "name": "ipython",
    "version": 3
   },
   "file_extension": ".py",
   "mimetype": "text/x-python",
   "name": "python",
   "nbconvert_exporter": "python",
   "pygments_lexer": "ipython3",
   "version": "3.9.10"
  }
 },
 "nbformat": 4,
 "nbformat_minor": 2
}
