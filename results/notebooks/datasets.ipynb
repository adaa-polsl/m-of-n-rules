{
 "cells": [
  {
   "cell_type": "code",
   "execution_count": 2,
   "metadata": {},
   "outputs": [],
   "source": [
    "import os\n",
    "import pandas as pd\n",
    "from glob import glob\n",
    "from utils import string_supporting_mean"
   ]
  },
  {
   "cell_type": "code",
   "execution_count": 3,
   "metadata": {},
   "outputs": [],
   "source": [
    "def get_datasets_data(problem_type: str) -> pd.DataFrame:\n",
    "    data = []\n",
    "    for path in glob(f'../../datasets/{problem_type}/*'):\n",
    "        dataset_name: str = os.path.basename(path)\n",
    "        df = pd.read_parquet(f'{path}/{dataset_name}.parquet')\n",
    "        columns = df.columns.tolist()\n",
    "        if 'survival_time' in columns:\n",
    "            columns.remove('survival_time')\n",
    "            columns.remove('survival_status')\n",
    "        else:\n",
    "            columns.remove('class')\n",
    "        df = df[columns]\n",
    "        data.append({\n",
    "            'problem_type': problem_type,\n",
    "            'dataset': dataset_name,\n",
    "            'examples count': df.shape[0],\n",
    "            'attributes count': df.shape[1],\n",
    "            'numerical attributes count': df.select_dtypes('number').columns.shape[0],\n",
    "            'nominal attributes count': df.shape[1] - df.select_dtypes('number').columns.shape[0],\n",
    "            'missing values count': df.isnull().sum().sum() / (df.shape[0] * df.shape[1]) * 100,\n",
    "        })\n",
    "    return pd.DataFrame(data)\n",
    "\n",
    "datasets_stats = pd.concat([\n",
    "    get_datasets_data('classification'),\n",
    "    get_datasets_data('regression'),\n",
    "    get_datasets_data('survival'),\n",
    "])"
   ]
  },
  {
   "cell_type": "code",
   "execution_count": 29,
   "metadata": {},
   "outputs": [
    {
     "data": {
      "text/plain": [
       "(12, 7)"
      ]
     },
     "execution_count": 29,
     "metadata": {},
     "output_type": "execute_result"
    }
   ],
   "source": [
    "datasets_stats[(datasets_stats['numerical attributes count'] == 0) & (datasets_stats['nominal attributes count'] > 0)].shape"
   ]
  },
  {
   "cell_type": "code",
   "execution_count": 32,
   "metadata": {},
   "outputs": [
    {
     "data": {
      "text/plain": [
       "(1, 7)"
      ]
     },
     "execution_count": 32,
     "metadata": {},
     "output_type": "execute_result"
    }
   ],
   "source": [
    "datasets_stats[(datasets_stats['numerical attributes count'] == 0) & (datasets_stats['nominal attributes count'] > 0) & (datasets_stats['problem_type'] == 'regression')].shape"
   ]
  },
  {
   "cell_type": "code",
   "execution_count": 19,
   "metadata": {},
   "outputs": [
    {
     "data": {
      "text/html": [
       "<div>\n",
       "<style scoped>\n",
       "    .dataframe tbody tr th:only-of-type {\n",
       "        vertical-align: middle;\n",
       "    }\n",
       "\n",
       "    .dataframe tbody tr th {\n",
       "        vertical-align: top;\n",
       "    }\n",
       "\n",
       "    .dataframe thead th {\n",
       "        text-align: right;\n",
       "    }\n",
       "</style>\n",
       "<table border=\"1\" class=\"dataframe\">\n",
       "  <thead>\n",
       "    <tr style=\"text-align: right;\">\n",
       "      <th></th>\n",
       "      <th>examples count</th>\n",
       "      <th>attributes count</th>\n",
       "      <th>numerical attributes count</th>\n",
       "      <th>nominal attributes count</th>\n",
       "      <th>missing values count</th>\n",
       "      <th>datasets count</th>\n",
       "    </tr>\n",
       "    <tr>\n",
       "      <th>problem_type</th>\n",
       "      <th></th>\n",
       "      <th></th>\n",
       "      <th></th>\n",
       "      <th></th>\n",
       "      <th></th>\n",
       "      <th></th>\n",
       "    </tr>\n",
       "  </thead>\n",
       "  <tbody>\n",
       "    <tr>\n",
       "      <th>classification</th>\n",
       "      <td>1131.27</td>\n",
       "      <td>16.33</td>\n",
       "      <td>6.47</td>\n",
       "      <td>9.87</td>\n",
       "      <td>1.20</td>\n",
       "      <td>30</td>\n",
       "    </tr>\n",
       "    <tr>\n",
       "      <th>regression</th>\n",
       "      <td>189.07</td>\n",
       "      <td>9.50</td>\n",
       "      <td>7.33</td>\n",
       "      <td>2.17</td>\n",
       "      <td>0.06</td>\n",
       "      <td>30</td>\n",
       "    </tr>\n",
       "    <tr>\n",
       "      <th>survival</th>\n",
       "      <td>723.25</td>\n",
       "      <td>16.38</td>\n",
       "      <td>13.00</td>\n",
       "      <td>3.38</td>\n",
       "      <td>5.00</td>\n",
       "      <td>16</td>\n",
       "    </tr>\n",
       "  </tbody>\n",
       "</table>\n",
       "</div>"
      ],
      "text/plain": [
       "                examples count  attributes count  numerical attributes count  \\\n",
       "problem_type                                                                   \n",
       "classification         1131.27             16.33                        6.47   \n",
       "regression              189.07              9.50                        7.33   \n",
       "survival                723.25             16.38                       13.00   \n",
       "\n",
       "                nominal attributes count  missing values count datasets count  \n",
       "problem_type                                                                   \n",
       "classification                      9.87                  1.20             30  \n",
       "regression                          2.17                  0.06             30  \n",
       "survival                            3.38                  5.00             16  "
      ]
     },
     "execution_count": 19,
     "metadata": {},
     "output_type": "execute_result"
    }
   ],
   "source": [
    "datasets_stats_avg = datasets_stats.groupby('problem_type').agg(\n",
    "    string_supporting_mean).drop(columns=['dataset']).round(2)\n",
    "\n",
    "datasets_stats_avg.to_csv('../datasets_stats_avg.csv', index=True)\n",
    "datasets_stats_avg['datasets count'] = None\n",
    "\n",
    "for problem_type in datasets_stats['problem_type'].unique():\n",
    "    datasets_stats_avg.loc[\n",
    "        problem_type,\n",
    "        'datasets count'\n",
    "    ] = datasets_stats[datasets_stats['problem_type'] == problem_type].shape[0]\n",
    "\n",
    "datasets_stats_avg"
   ]
  },
  {
   "cell_type": "code",
   "execution_count": 20,
   "metadata": {},
   "outputs": [],
   "source": [
    "data = []\n",
    "\n",
    "for problem in ['classification', 'regression', 'survival']:\n",
    "    stats = datasets_stats[datasets_stats['problem_type'] == problem]\n",
    "    data.append({\n",
    "        'Problem type': problem,\n",
    "        'Datasets count': stats['dataset'].unique().shape[0],\n",
    "        'Min attributes count': stats['attributes count'].min(),\n",
    "        'Mean attributes count': stats['attributes count'].mean(),\n",
    "        'Max attributes count': stats['attributes count'].max(),\n",
    "        'Min rows count': stats['examples count'].min(),\n",
    "        'Mean rows count': stats['examples count'].mean(),\n",
    "        'Max rows count': stats['examples count'].max(),\n",
    "        'Datasets with missing values': stats[stats['missing values count'] > 0].shape[0]\n",
    "    })\n",
    "\n",
    "df= pd.DataFrame(data)\n",
    "df.to_csv('../adatasets_stats_avg.csv', index=False)"
   ]
  },
  {
   "cell_type": "code",
   "execution_count": 22,
   "metadata": {},
   "outputs": [
    {
     "data": {
      "text/html": [
       "<div>\n",
       "<style scoped>\n",
       "    .dataframe tbody tr th:only-of-type {\n",
       "        vertical-align: middle;\n",
       "    }\n",
       "\n",
       "    .dataframe tbody tr th {\n",
       "        vertical-align: top;\n",
       "    }\n",
       "\n",
       "    .dataframe thead th {\n",
       "        text-align: right;\n",
       "    }\n",
       "</style>\n",
       "<table border=\"1\" class=\"dataframe\">\n",
       "  <thead>\n",
       "    <tr style=\"text-align: right;\">\n",
       "      <th></th>\n",
       "      <th>Problem type</th>\n",
       "      <th>Datasets count</th>\n",
       "      <th>Min attributes count</th>\n",
       "      <th>Mean attributes count</th>\n",
       "      <th>Max attributes count</th>\n",
       "      <th>Min rows count</th>\n",
       "      <th>Mean rows count</th>\n",
       "      <th>Max rows count</th>\n",
       "      <th>Datasets with missing values</th>\n",
       "    </tr>\n",
       "  </thead>\n",
       "  <tbody>\n",
       "    <tr>\n",
       "      <th>0</th>\n",
       "      <td>classification</td>\n",
       "      <td>30</td>\n",
       "      <td>4</td>\n",
       "      <td>16.333333</td>\n",
       "      <td>61</td>\n",
       "      <td>101</td>\n",
       "      <td>1131.266667</td>\n",
       "      <td>12960</td>\n",
       "      <td>10</td>\n",
       "    </tr>\n",
       "    <tr>\n",
       "      <th>1</th>\n",
       "      <td>regression</td>\n",
       "      <td>30</td>\n",
       "      <td>3</td>\n",
       "      <td>9.500000</td>\n",
       "      <td>28</td>\n",
       "      <td>27</td>\n",
       "      <td>189.066667</td>\n",
       "      <td>625</td>\n",
       "      <td>3</td>\n",
       "    </tr>\n",
       "    <tr>\n",
       "      <th>2</th>\n",
       "      <td>survival</td>\n",
       "      <td>16</td>\n",
       "      <td>6</td>\n",
       "      <td>16.375000</td>\n",
       "      <td>57</td>\n",
       "      <td>187</td>\n",
       "      <td>723.250000</td>\n",
       "      <td>3154</td>\n",
       "      <td>7</td>\n",
       "    </tr>\n",
       "  </tbody>\n",
       "</table>\n",
       "</div>"
      ],
      "text/plain": [
       "     Problem type  Datasets count  Min attributes count  \\\n",
       "0  classification              30                     4   \n",
       "1      regression              30                     3   \n",
       "2        survival              16                     6   \n",
       "\n",
       "   Mean attributes count  Max attributes count  Min rows count  \\\n",
       "0              16.333333                    61             101   \n",
       "1               9.500000                    28              27   \n",
       "2              16.375000                    57             187   \n",
       "\n",
       "   Mean rows count  Max rows count  Datasets with missing values  \n",
       "0      1131.266667           12960                            10  \n",
       "1       189.066667             625                             3  \n",
       "2       723.250000            3154                             7  "
      ]
     },
     "execution_count": 22,
     "metadata": {},
     "output_type": "execute_result"
    }
   ],
   "source": [
    "df"
   ]
  },
  {
   "cell_type": "code",
   "execution_count": 23,
   "metadata": {},
   "outputs": [],
   "source": [
    "for problem in ['classification', 'regression', 'survival']:\n",
    "    df.loc[problem, 'Datasets with missing values'] = datasets_stats[\n",
    "        (datasets_stats['problem_type'] == problem_type) & \n",
    "        (datasets_stats['missing values count'] > 0) \n",
    "    ].shape[0]"
   ]
  },
  {
   "cell_type": "code",
   "execution_count": 27,
   "metadata": {},
   "outputs": [
    {
     "data": {
      "text/plain": [
       "7"
      ]
     },
     "execution_count": 27,
     "metadata": {},
     "output_type": "execute_result"
    }
   ],
   "source": [
    "datasets_stats[\n",
    "        (datasets_stats['problem_type'] == 'survival') & \n",
    "        (datasets_stats['missing values count'] > 0) \n",
    "    ].shape[0]"
   ]
  }
 ],
 "metadata": {
  "kernelspec": {
   "display_name": "env",
   "language": "python",
   "name": "python3"
  },
  "language_info": {
   "codemirror_mode": {
    "name": "ipython",
    "version": 3
   },
   "file_extension": ".py",
   "mimetype": "text/x-python",
   "name": "python",
   "nbconvert_exporter": "python",
   "pygments_lexer": "ipython3",
   "version": "3.9.10"
  }
 },
 "nbformat": 4,
 "nbformat_minor": 2
}
