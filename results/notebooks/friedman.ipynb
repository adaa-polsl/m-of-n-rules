{
 "cells": [
  {
   "cell_type": "code",
   "execution_count": 6,
   "metadata": {},
   "outputs": [],
   "source": [
    "import pandas as pd\n",
    "from scipy.stats import friedmanchisquare\n",
    "from utils import string_supporting_mean, print_rules\n",
    "from experiments_utils.results.tables import Tables\n",
    "\n",
    "def read_classification_results() -> pd.DataFrame:\n",
    "    Tables.configure('../classification/min_supp_20')\n",
    "    metrics = pd.concat(Tables.query('*', '*', '*', 'metrics', as_pandas=True))\n",
    "    columns = [c for c in metrics.columns.tolist() if 'Unnamed' not in c]\n",
    "    columns.remove('model_type')\n",
    "    columns.remove('dataset')\n",
    "    metrics = metrics[['dataset', 'model_type'] + columns]\n",
    "    return metrics\n",
    "\n",
    "def read_regression_results() -> pd.DataFrame:\n",
    "    Tables.configure('../regression/min_supp_20')\n",
    "    return pd.concat(Tables.query('*', '*', '*', 'metrics', as_pandas=True))\n",
    "\n",
    "def read_survival_results() -> pd.DataFrame:\n",
    "    Tables.configure('../survival/min_supp_20')\n",
    "    return pd.concat(Tables.query('*', '*', '*', 'metrics', as_pandas=True))"
   ]
  },
  {
   "cell_type": "code",
   "execution_count": 7,
   "metadata": {},
   "outputs": [
    {
     "name": "stderr",
     "output_type": "stream",
     "text": [
      "WARNING:root:Given tables directory: \"../classification/min_supp_20\" is not empty\n"
     ]
    },
    {
     "name": "stdout",
     "output_type": "stream",
     "text": [
      "../classification/min_supp_20\\*\\*\\*\\metrics.csv\n"
     ]
    },
    {
     "name": "stderr",
     "output_type": "stream",
     "text": [
      "WARNING:root:Given tables directory: \"../regression/min_supp_20\" is not empty\n"
     ]
    },
    {
     "name": "stdout",
     "output_type": "stream",
     "text": [
      "../regression/min_supp_20\\*\\*\\*\\metrics.csv\n"
     ]
    },
    {
     "name": "stderr",
     "output_type": "stream",
     "text": [
      "WARNING:root:Given tables directory: \"../survival/min_supp_20\" is not empty\n"
     ]
    },
    {
     "name": "stdout",
     "output_type": "stream",
     "text": [
      "../survival/min_supp_20\\*\\*\\*\\metrics.csv\n"
     ]
    }
   ],
   "source": [
    "classification_results = read_classification_results()\n",
    "regression_results = read_regression_results()\n",
    "survival_results = read_survival_results()"
   ]
  },
  {
   "cell_type": "code",
   "execution_count": 8,
   "metadata": {},
   "outputs": [],
   "source": [
    "def perform_friedman_test(\n",
    "    df: pd.DataFrame,\n",
    "    score_column: str,\n",
    "    model_type_column: str,\n",
    "):\n",
    "    return friedmanchisquare(*[\n",
    "        df[df[model_type_column] == e][score_column] \n",
    "        for e in df[model_type_column].unique()\n",
    "    ])\n"
   ]
  },
  {
   "cell_type": "code",
   "execution_count": 14,
   "metadata": {},
   "outputs": [],
   "source": [
    "\n",
    "friedman_results = {\n",
    "    'rules': {\n",
    "        'classification': perform_friedman_test(\n",
    "            classification_results,\n",
    "            score_column='rules',\n",
    "            model_type_column='model_type',\n",
    "        ),\n",
    "        'regression': perform_friedman_test(\n",
    "            regression_results,\n",
    "            score_column='rules',\n",
    "            model_type_column='model_type',\n",
    "        ),\n",
    "        'survival': perform_friedman_test(\n",
    "            survival_results,\n",
    "            score_column='rules',\n",
    "            model_type_column='model_type',\n",
    "        ),\n",
    "    },\n",
    "    'score': {\n",
    "        'classification': perform_friedman_test(\n",
    "            classification_results,\n",
    "            score_column='BAcc (test)',\n",
    "            model_type_column='model_type',\n",
    "        ),\n",
    "        'regression': perform_friedman_test(\n",
    "            regression_results,\n",
    "            score_column='rRMSE (test)',\n",
    "            model_type_column='model_type',\n",
    "        ),\n",
    "        'survival': perform_friedman_test(\n",
    "            survival_results,\n",
    "            score_column='integrated_brier_score (test)',\n",
    "            model_type_column='model_type',\n",
    "        ),\n",
    "    }\n",
    "}"
   ]
  },
  {
   "cell_type": "code",
   "execution_count": 34,
   "metadata": {},
   "outputs": [],
   "source": [
    "def correct_p_values_fdr(pvalues: list):\n",
    "    N = len(pvalues)\n",
    "    k = 0\n",
    "    order = {pvalue: i for i, pvalue in enumerate(pvalues)}\n",
    "    pvalues = sorted(pvalues)\n",
    "    adjusted_p_values = [None] * len(pvalues)\n",
    "\n",
    "    k = 1\n",
    "    for pvalue in pvalues:\n",
    "        adj_p = pvalue * N / k\n",
    "        adjusted_p_values[order[pvalue]] = adj_p\n",
    "        k += 1\n",
    "    return adjusted_p_values"
   ]
  },
  {
   "cell_type": "code",
   "execution_count": 35,
   "metadata": {},
   "outputs": [
    {
     "data": {
      "text/html": [
       "<div>\n",
       "<style scoped>\n",
       "    .dataframe tbody tr th:only-of-type {\n",
       "        vertical-align: middle;\n",
       "    }\n",
       "\n",
       "    .dataframe tbody tr th {\n",
       "        vertical-align: top;\n",
       "    }\n",
       "\n",
       "    .dataframe thead th {\n",
       "        text-align: right;\n",
       "    }\n",
       "</style>\n",
       "<table border=\"1\" class=\"dataframe\">\n",
       "  <thead>\n",
       "    <tr style=\"text-align: right;\">\n",
       "      <th></th>\n",
       "      <th>Problem</th>\n",
       "      <th>rules (Before correction)</th>\n",
       "      <th>rules (After correction)</th>\n",
       "      <th>score (Before correction)</th>\n",
       "      <th>score (After correction)</th>\n",
       "    </tr>\n",
       "  </thead>\n",
       "  <tbody>\n",
       "    <tr>\n",
       "      <th>0</th>\n",
       "      <td>classification</td>\n",
       "      <td>0.000320</td>\n",
       "      <td>0.000320</td>\n",
       "      <td>0.216915</td>\n",
       "      <td>0.216915</td>\n",
       "    </tr>\n",
       "    <tr>\n",
       "      <th>1</th>\n",
       "      <td>regression</td>\n",
       "      <td>0.000003</td>\n",
       "      <td>0.000010</td>\n",
       "      <td>0.079657</td>\n",
       "      <td>0.119485</td>\n",
       "    </tr>\n",
       "    <tr>\n",
       "      <th>2</th>\n",
       "      <td>survival</td>\n",
       "      <td>0.000027</td>\n",
       "      <td>0.000041</td>\n",
       "      <td>0.039261</td>\n",
       "      <td>0.117784</td>\n",
       "    </tr>\n",
       "  </tbody>\n",
       "</table>\n",
       "</div>"
      ],
      "text/plain": [
       "          Problem  rules (Before correction)  rules (After correction)  \\\n",
       "0  classification                   0.000320                  0.000320   \n",
       "1      regression                   0.000003                  0.000010   \n",
       "2        survival                   0.000027                  0.000041   \n",
       "\n",
       "   score (Before correction)  score (After correction)  \n",
       "0                   0.216915                  0.216915  \n",
       "1                   0.079657                  0.119485  \n",
       "2                   0.039261                  0.117784  "
      ]
     },
     "execution_count": 35,
     "metadata": {},
     "output_type": "execute_result"
    },
    {
     "ename": "",
     "evalue": "",
     "output_type": "error",
     "traceback": [
      "\u001b[1;31mThe Kernel crashed while executing code in the the current cell or a previous cell. Please review the code in the cell(s) to identify a possible cause of the failure. Click <a href='https://aka.ms/vscodeJupyterKernelCrash'>here</a> for more info. View Jupyter <a href='command:jupyter.viewOutput'>log</a> for further details."
     ]
    }
   ],
   "source": [
    "df = pd.DataFrame()\n",
    "df['Problem'] = ['classification', 'regression', 'survival']\n",
    "for column_name, problems_results in friedman_results.items():\n",
    "    pvalues = []\n",
    "    for problem_name, problems_result in problems_results.items():\n",
    "        pvalues.append(problems_result.pvalue)\n",
    "    pvalues_corrected = correct_p_values_fdr(pvalues)\n",
    "    df[f'{column_name} (Before correction)'] = pvalues\n",
    "    df[f'{column_name} (After correction)'] = pvalues_corrected\n",
    "\n",
    "df    "
   ]
  }
 ],
 "metadata": {
  "kernelspec": {
   "display_name": "env",
   "language": "python",
   "name": "python3"
  },
  "language_info": {
   "codemirror_mode": {
    "name": "ipython",
    "version": 3
   },
   "file_extension": ".py",
   "mimetype": "text/x-python",
   "name": "python",
   "nbconvert_exporter": "python",
   "pygments_lexer": "ipython3",
   "version": "3.9.10"
  }
 },
 "nbformat": 4,
 "nbformat_minor": 2
}
