{
 "cells": [
  {
   "cell_type": "code",
   "execution_count": 7,
   "metadata": {},
   "outputs": [],
   "source": [
    "import pandas as pd\n",
    "from scipy.stats import friedmanchisquare\n",
    "from experiments_utils.results.tables import Tables\n",
    "\n",
    "def read_classification_results() -> pd.DataFrame:\n",
    "    Tables.configure('../classification/min_supp_20')\n",
    "    metrics = pd.concat(Tables.query('*', '*', '*', 'metrics', as_pandas=True))\n",
    "    columns = [c for c in metrics.columns.tolist() if 'Unnamed' not in c]\n",
    "    columns.remove('model_type')\n",
    "    columns.remove('dataset')\n",
    "    metrics = metrics[['dataset', 'model_type'] + columns]\n",
    "    return metrics"
   ]
  },
  {
   "cell_type": "code",
   "execution_count": 8,
   "metadata": {},
   "outputs": [
    {
     "name": "stderr",
     "output_type": "stream",
     "text": [
      "WARNING:root:Given tables directory: \"../classification/min_supp_20\" is not empty\n"
     ]
    },
    {
     "name": "stdout",
     "output_type": "stream",
     "text": [
      "../classification/min_supp_20\\*\\*\\*\\metrics.csv\n"
     ]
    }
   ],
   "source": [
    "metrics = read_classification_results()"
   ]
  },
  {
   "cell_type": "code",
   "execution_count": 11,
   "metadata": {},
   "outputs": [],
   "source": [
    "datasets = [\n",
    "    # 'monk-1',\n",
    "    'monk-2',\n",
    "    # 'monk-3',\n",
    "    'iris'\n",
    "]\n",
    "\n",
    "variants = metrics['model_type'].unique().tolist()\n",
    "\n",
    "for dataset in ['iris']:\n",
    "    dfs = []\n",
    "    for variant in variants:\n",
    "        dfs.append(pd.read_csv(f'../classification/min_supp_20/{dataset}/no_discretization/{variant}/cv/3/metrics.csv'))\n",
    "    pd.concat(dfs).to_csv(f'./iris_monk/{dataset}.csv', index=False)\n"
   ]
  },
  {
   "cell_type": "code",
   "execution_count": null,
   "metadata": {},
   "outputs": [],
   "source": [
    "for dataset in ['monk-2']:\n",
    "    dfs = []\n",
    "    for variant in variants:\n",
    "        dfs.append(pd.read_csv(f'../classification/min_supp_20/{dataset}/no_discretization/{variant}/metrics.csv'))\n",
    "    pd.concat(dfs).to_csv(f'./iris_monk/{dataset}.csv', index=False)\n"
   ]
  }
 ],
 "metadata": {
  "kernelspec": {
   "display_name": "env",
   "language": "python",
   "name": "python3"
  },
  "language_info": {
   "codemirror_mode": {
    "name": "ipython",
    "version": 3
   },
   "file_extension": ".py",
   "mimetype": "text/x-python",
   "name": "python",
   "nbconvert_exporter": "python",
   "pygments_lexer": "ipython3",
   "version": "3.9.10"
  }
 },
 "nbformat": 4,
 "nbformat_minor": 2
}
